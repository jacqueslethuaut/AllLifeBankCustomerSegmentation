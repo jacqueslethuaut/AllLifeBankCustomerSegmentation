{
  "nbformat": 4,
  "nbformat_minor": 0,
  "metadata": {
    "colab": {
      "provenance": [],
      "toc_visible": true,
      "authorship_tag": "ABX9TyPWry1u9mxwq88Lw+V6So6Z",
      "include_colab_link": true
    },
    "kernelspec": {
      "name": "python3",
      "display_name": "Python 3"
    },
    "language_info": {
      "name": "python"
    },
    "accelerator": "GPU",
    "gpuClass": "standard"
  },
  "cells": [
    {
      "cell_type": "markdown",
      "metadata": {
        "id": "view-in-github",
        "colab_type": "text"
      },
      "source": [
        "<a href=\"https://colab.research.google.com/github/jacqueslethuaut/AllLifeBankCustomerSegmentation/blob/main/SoloTraveller01.ipynb\" target=\"_parent\"><img src=\"https://colab.research.google.com/assets/colab-badge.svg\" alt=\"Open In Colab\"/></a>"
      ]
    },
    {
      "cell_type": "markdown",
      "source": [
        "# Shinkansen Travel Experience\n",
        "The goal of the problem is to predict whether a passenger was satisfied or not considering his/her overall experience of traveling on the Shinkansen Bullet Train\n",
        "\n",
        "Team:\n",
        "- Raghavendar Lokineni\n",
        "- Jacques Le Thuaut"
      ],
      "metadata": {
        "id": "z3BSdCNMEKOx"
      }
    },
    {
      "cell_type": "markdown",
      "source": [
        "## Initialisation"
      ],
      "metadata": {
        "id": "FjoawQrsEjEO"
      }
    },
    {
      "cell_type": "code",
      "source": [
        "USING_GOOGLE_COLAB = True\n",
        "HACKATHON_DATA = '/Hackathon'\n",
        "TRAVEL_DATA_TRAIN = '/Traveldata_train_(1).csv'\n",
        "TRAVEL_DATA_TEST = '/Traveldata_test_(1).csv'\n",
        "SURVEY_DATA_TRAIN = '/Surveydata_train_(1).csv'\n",
        "SURVEY_DATA_TEST = '/Surveydata_test_(1).csv'\n",
        "DATA_DICTIONNARY = '/Data_Dictionary_(1).xlsx'"
      ],
      "metadata": {
        "id": "WKshMnfBEisK"
      },
      "execution_count": 1,
      "outputs": []
    },
    {
      "cell_type": "markdown",
      "source": [
        "## Connecting to Google Drive"
      ],
      "metadata": {
        "id": "rpDvHs2tEZHk"
      }
    },
    {
      "cell_type": "code",
      "execution_count": 2,
      "metadata": {
        "colab": {
          "base_uri": "https://localhost:8080/"
        },
        "id": "ktX5kLUSDlmx",
        "outputId": "54c75faf-5c2d-4620-9818-ea058c1bbeb0"
      },
      "outputs": [
        {
          "output_type": "stream",
          "name": "stdout",
          "text": [
            "Mounted at /content/drive\n"
          ]
        }
      ],
      "source": [
        "if USING_GOOGLE_COLAB:\n",
        "  from google.colab import drive\n",
        "  drive.mount('/content/drive')"
      ]
    },
    {
      "cell_type": "markdown",
      "source": [
        "## Loading librairies"
      ],
      "metadata": {
        "id": "_2IWyDZ9E47_"
      }
    },
    {
      "cell_type": "code",
      "source": [
        "import numpy as np\n",
        "import pandas as pd\n",
        "import matplotlib.pyplot as plt\n",
        "import seaborn as sns"
      ],
      "metadata": {
        "id": "KGiIIJYkE7La"
      },
      "execution_count": 30,
      "outputs": []
    },
    {
      "cell_type": "markdown",
      "source": [
        "## Loading the data\n"
      ],
      "metadata": {
        "id": "eQQSzqW2FYC4"
      }
    },
    {
      "cell_type": "code",
      "source": [
        "travel_data_train = pd.read_csv('/content/drive/MyDrive/Colab Notebooks' + HACKATHON_DATA + TRAVEL_DATA_TRAIN)\n",
        "travel_data_test = pd.read_csv('/content/drive/MyDrive/Colab Notebooks' + HACKATHON_DATA + TRAVEL_DATA_TEST)\n",
        "survey_data_train = pd.read_csv('/content/drive/MyDrive/Colab Notebooks' + HACKATHON_DATA + SURVEY_DATA_TRAIN)\n",
        "survey_data_test = pd.read_csv('/content/drive/MyDrive/Colab Notebooks' + HACKATHON_DATA + SURVEY_DATA_TEST)"
      ],
      "metadata": {
        "id": "Z_IqZ7OsFZv-"
      },
      "execution_count": 4,
      "outputs": []
    },
    {
      "cell_type": "markdown",
      "source": [
        "## Print shape of datasets"
      ],
      "metadata": {
        "id": "gQCc0R0kH1T9"
      }
    },
    {
      "cell_type": "markdown",
      "source": [
        "### travel data train"
      ],
      "metadata": {
        "id": "6LbBZLnNIRQw"
      }
    },
    {
      "cell_type": "code",
      "source": [
        "print(travel_data_train.head())\n",
        "print(travel_data_train.tail())"
      ],
      "metadata": {
        "colab": {
          "base_uri": "https://localhost:8080/"
        },
        "id": "UTvshcBTH5Ee",
        "outputId": "ea5551be-357e-4a7c-c563-bb3bc4b86dcc"
      },
      "execution_count": 5,
      "outputs": [
        {
          "output_type": "stream",
          "name": "stdout",
          "text": [
            "         ID  Gender   Customer_Type   Age      Type_Travel Travel_Class  \\\n",
            "0  98800001  Female  Loyal Customer  52.0              NaN     Business   \n",
            "1  98800002    Male  Loyal Customer  48.0  Personal Travel          Eco   \n",
            "2  98800003  Female  Loyal Customer  43.0  Business Travel     Business   \n",
            "3  98800004  Female  Loyal Customer  44.0  Business Travel     Business   \n",
            "4  98800005  Female  Loyal Customer  50.0  Business Travel     Business   \n",
            "\n",
            "   Travel_Distance  Departure_Delay_in_Mins  Arrival_Delay_in_Mins  \n",
            "0              272                      0.0                    5.0  \n",
            "1             2200                      9.0                    0.0  \n",
            "2             1061                     77.0                  119.0  \n",
            "3              780                     13.0                   18.0  \n",
            "4             1981                      0.0                    0.0  \n",
            "             ID Gender   Customer_Type   Age      Type_Travel Travel_Class  \\\n",
            "94374  98894375   Male  Loyal Customer  32.0  Business Travel     Business   \n",
            "94375  98894376   Male  Loyal Customer  44.0  Business Travel     Business   \n",
            "94376  98894377   Male             NaN  63.0  Business Travel     Business   \n",
            "94377  98894378   Male  Loyal Customer  16.0  Personal Travel          Eco   \n",
            "94378  98894379   Male  Loyal Customer  54.0              NaN          Eco   \n",
            "\n",
            "       Travel_Distance  Departure_Delay_in_Mins  Arrival_Delay_in_Mins  \n",
            "94374             1357                     83.0                  125.0  \n",
            "94375              592                      5.0                   11.0  \n",
            "94376             2794                      0.0                    0.0  \n",
            "94377             2744                      0.0                    0.0  \n",
            "94378             2107                     28.0                   28.0  \n"
          ]
        }
      ]
    },
    {
      "cell_type": "code",
      "source": [
        "travel_data_train.describe().T"
      ],
      "metadata": {
        "colab": {
          "base_uri": "https://localhost:8080/",
          "height": 204
        },
        "id": "mIYQKaOsIcc1",
        "outputId": "5a7d68ef-9d4a-42cb-ff75-ff5d8f90a0dc"
      },
      "execution_count": 6,
      "outputs": [
        {
          "output_type": "execute_result",
          "data": {
            "text/plain": [
              "                           count          mean           std         min  \\\n",
              "ID                       94379.0  9.884719e+07  27245.014865  98800001.0   \n",
              "Age                      94346.0  3.941965e+01     15.116632         7.0   \n",
              "Travel_Distance          94379.0  1.978888e+03   1027.961019        50.0   \n",
              "Departure_Delay_in_Mins  94322.0  1.464709e+01     38.138781         0.0   \n",
              "Arrival_Delay_in_Mins    94022.0  1.500522e+01     38.439409         0.0   \n",
              "\n",
              "                                25%         50%         75%         max  \n",
              "ID                       98823595.5  98847190.0  98870784.5  98894379.0  \n",
              "Age                            27.0        40.0        51.0        85.0  \n",
              "Travel_Distance              1359.0      1923.0      2538.0      6951.0  \n",
              "Departure_Delay_in_Mins         0.0         0.0        12.0      1592.0  \n",
              "Arrival_Delay_in_Mins           0.0         0.0        13.0      1584.0  "
            ],
            "text/html": [
              "\n",
              "  <div id=\"df-50b4c6f9-e945-463c-955d-fed6c70acfc7\">\n",
              "    <div class=\"colab-df-container\">\n",
              "      <div>\n",
              "<style scoped>\n",
              "    .dataframe tbody tr th:only-of-type {\n",
              "        vertical-align: middle;\n",
              "    }\n",
              "\n",
              "    .dataframe tbody tr th {\n",
              "        vertical-align: top;\n",
              "    }\n",
              "\n",
              "    .dataframe thead th {\n",
              "        text-align: right;\n",
              "    }\n",
              "</style>\n",
              "<table border=\"1\" class=\"dataframe\">\n",
              "  <thead>\n",
              "    <tr style=\"text-align: right;\">\n",
              "      <th></th>\n",
              "      <th>count</th>\n",
              "      <th>mean</th>\n",
              "      <th>std</th>\n",
              "      <th>min</th>\n",
              "      <th>25%</th>\n",
              "      <th>50%</th>\n",
              "      <th>75%</th>\n",
              "      <th>max</th>\n",
              "    </tr>\n",
              "  </thead>\n",
              "  <tbody>\n",
              "    <tr>\n",
              "      <th>ID</th>\n",
              "      <td>94379.0</td>\n",
              "      <td>9.884719e+07</td>\n",
              "      <td>27245.014865</td>\n",
              "      <td>98800001.0</td>\n",
              "      <td>98823595.5</td>\n",
              "      <td>98847190.0</td>\n",
              "      <td>98870784.5</td>\n",
              "      <td>98894379.0</td>\n",
              "    </tr>\n",
              "    <tr>\n",
              "      <th>Age</th>\n",
              "      <td>94346.0</td>\n",
              "      <td>3.941965e+01</td>\n",
              "      <td>15.116632</td>\n",
              "      <td>7.0</td>\n",
              "      <td>27.0</td>\n",
              "      <td>40.0</td>\n",
              "      <td>51.0</td>\n",
              "      <td>85.0</td>\n",
              "    </tr>\n",
              "    <tr>\n",
              "      <th>Travel_Distance</th>\n",
              "      <td>94379.0</td>\n",
              "      <td>1.978888e+03</td>\n",
              "      <td>1027.961019</td>\n",
              "      <td>50.0</td>\n",
              "      <td>1359.0</td>\n",
              "      <td>1923.0</td>\n",
              "      <td>2538.0</td>\n",
              "      <td>6951.0</td>\n",
              "    </tr>\n",
              "    <tr>\n",
              "      <th>Departure_Delay_in_Mins</th>\n",
              "      <td>94322.0</td>\n",
              "      <td>1.464709e+01</td>\n",
              "      <td>38.138781</td>\n",
              "      <td>0.0</td>\n",
              "      <td>0.0</td>\n",
              "      <td>0.0</td>\n",
              "      <td>12.0</td>\n",
              "      <td>1592.0</td>\n",
              "    </tr>\n",
              "    <tr>\n",
              "      <th>Arrival_Delay_in_Mins</th>\n",
              "      <td>94022.0</td>\n",
              "      <td>1.500522e+01</td>\n",
              "      <td>38.439409</td>\n",
              "      <td>0.0</td>\n",
              "      <td>0.0</td>\n",
              "      <td>0.0</td>\n",
              "      <td>13.0</td>\n",
              "      <td>1584.0</td>\n",
              "    </tr>\n",
              "  </tbody>\n",
              "</table>\n",
              "</div>\n",
              "      <button class=\"colab-df-convert\" onclick=\"convertToInteractive('df-50b4c6f9-e945-463c-955d-fed6c70acfc7')\"\n",
              "              title=\"Convert this dataframe to an interactive table.\"\n",
              "              style=\"display:none;\">\n",
              "        \n",
              "  <svg xmlns=\"http://www.w3.org/2000/svg\" height=\"24px\"viewBox=\"0 0 24 24\"\n",
              "       width=\"24px\">\n",
              "    <path d=\"M0 0h24v24H0V0z\" fill=\"none\"/>\n",
              "    <path d=\"M18.56 5.44l.94 2.06.94-2.06 2.06-.94-2.06-.94-.94-2.06-.94 2.06-2.06.94zm-11 1L8.5 8.5l.94-2.06 2.06-.94-2.06-.94L8.5 2.5l-.94 2.06-2.06.94zm10 10l.94 2.06.94-2.06 2.06-.94-2.06-.94-.94-2.06-.94 2.06-2.06.94z\"/><path d=\"M17.41 7.96l-1.37-1.37c-.4-.4-.92-.59-1.43-.59-.52 0-1.04.2-1.43.59L10.3 9.45l-7.72 7.72c-.78.78-.78 2.05 0 2.83L4 21.41c.39.39.9.59 1.41.59.51 0 1.02-.2 1.41-.59l7.78-7.78 2.81-2.81c.8-.78.8-2.07 0-2.86zM5.41 20L4 18.59l7.72-7.72 1.47 1.35L5.41 20z\"/>\n",
              "  </svg>\n",
              "      </button>\n",
              "      \n",
              "  <style>\n",
              "    .colab-df-container {\n",
              "      display:flex;\n",
              "      flex-wrap:wrap;\n",
              "      gap: 12px;\n",
              "    }\n",
              "\n",
              "    .colab-df-convert {\n",
              "      background-color: #E8F0FE;\n",
              "      border: none;\n",
              "      border-radius: 50%;\n",
              "      cursor: pointer;\n",
              "      display: none;\n",
              "      fill: #1967D2;\n",
              "      height: 32px;\n",
              "      padding: 0 0 0 0;\n",
              "      width: 32px;\n",
              "    }\n",
              "\n",
              "    .colab-df-convert:hover {\n",
              "      background-color: #E2EBFA;\n",
              "      box-shadow: 0px 1px 2px rgba(60, 64, 67, 0.3), 0px 1px 3px 1px rgba(60, 64, 67, 0.15);\n",
              "      fill: #174EA6;\n",
              "    }\n",
              "\n",
              "    [theme=dark] .colab-df-convert {\n",
              "      background-color: #3B4455;\n",
              "      fill: #D2E3FC;\n",
              "    }\n",
              "\n",
              "    [theme=dark] .colab-df-convert:hover {\n",
              "      background-color: #434B5C;\n",
              "      box-shadow: 0px 1px 3px 1px rgba(0, 0, 0, 0.15);\n",
              "      filter: drop-shadow(0px 1px 2px rgba(0, 0, 0, 0.3));\n",
              "      fill: #FFFFFF;\n",
              "    }\n",
              "  </style>\n",
              "\n",
              "      <script>\n",
              "        const buttonEl =\n",
              "          document.querySelector('#df-50b4c6f9-e945-463c-955d-fed6c70acfc7 button.colab-df-convert');\n",
              "        buttonEl.style.display =\n",
              "          google.colab.kernel.accessAllowed ? 'block' : 'none';\n",
              "\n",
              "        async function convertToInteractive(key) {\n",
              "          const element = document.querySelector('#df-50b4c6f9-e945-463c-955d-fed6c70acfc7');\n",
              "          const dataTable =\n",
              "            await google.colab.kernel.invokeFunction('convertToInteractive',\n",
              "                                                     [key], {});\n",
              "          if (!dataTable) return;\n",
              "\n",
              "          const docLinkHtml = 'Like what you see? Visit the ' +\n",
              "            '<a target=\"_blank\" href=https://colab.research.google.com/notebooks/data_table.ipynb>data table notebook</a>'\n",
              "            + ' to learn more about interactive tables.';\n",
              "          element.innerHTML = '';\n",
              "          dataTable['output_type'] = 'display_data';\n",
              "          await google.colab.output.renderOutput(dataTable, element);\n",
              "          const docLink = document.createElement('div');\n",
              "          docLink.innerHTML = docLinkHtml;\n",
              "          element.appendChild(docLink);\n",
              "        }\n",
              "      </script>\n",
              "    </div>\n",
              "  </div>\n",
              "  "
            ]
          },
          "metadata": {},
          "execution_count": 6
        }
      ]
    },
    {
      "cell_type": "code",
      "source": [
        "travel_data_train.info()"
      ],
      "metadata": {
        "colab": {
          "base_uri": "https://localhost:8080/"
        },
        "id": "g0iVpiEFIjqs",
        "outputId": "cc1d1328-d4d0-473f-a653-4b7945db0322"
      },
      "execution_count": 7,
      "outputs": [
        {
          "output_type": "stream",
          "name": "stdout",
          "text": [
            "<class 'pandas.core.frame.DataFrame'>\n",
            "RangeIndex: 94379 entries, 0 to 94378\n",
            "Data columns (total 9 columns):\n",
            " #   Column                   Non-Null Count  Dtype  \n",
            "---  ------                   --------------  -----  \n",
            " 0   ID                       94379 non-null  int64  \n",
            " 1   Gender                   94302 non-null  object \n",
            " 2   Customer_Type            85428 non-null  object \n",
            " 3   Age                      94346 non-null  float64\n",
            " 4   Type_Travel              85153 non-null  object \n",
            " 5   Travel_Class             94379 non-null  object \n",
            " 6   Travel_Distance          94379 non-null  int64  \n",
            " 7   Departure_Delay_in_Mins  94322 non-null  float64\n",
            " 8   Arrival_Delay_in_Mins    94022 non-null  float64\n",
            "dtypes: float64(3), int64(2), object(4)\n",
            "memory usage: 6.5+ MB\n"
          ]
        }
      ]
    },
    {
      "cell_type": "markdown",
      "source": [
        "Verify that ID column contains non duplicated ID"
      ],
      "metadata": {
        "id": "KU6uXUyIKF1b"
      }
    },
    {
      "cell_type": "code",
      "source": [
        "travel_data_train.isnull().sum()"
      ],
      "metadata": {
        "colab": {
          "base_uri": "https://localhost:8080/"
        },
        "id": "BFkrWcLWJf2R",
        "outputId": "504d63d5-e517-4b40-d66f-fee17f2e5db8"
      },
      "execution_count": 8,
      "outputs": [
        {
          "output_type": "execute_result",
          "data": {
            "text/plain": [
              "ID                            0\n",
              "Gender                       77\n",
              "Customer_Type              8951\n",
              "Age                          33\n",
              "Type_Travel                9226\n",
              "Travel_Class                  0\n",
              "Travel_Distance               0\n",
              "Departure_Delay_in_Mins      57\n",
              "Arrival_Delay_in_Mins       357\n",
              "dtype: int64"
            ]
          },
          "metadata": {},
          "execution_count": 8
        }
      ]
    },
    {
      "cell_type": "code",
      "source": [
        "100.0 * travel_data_train.isnull().sum() / travel_data_train.shape[0]"
      ],
      "metadata": {
        "colab": {
          "base_uri": "https://localhost:8080/"
        },
        "id": "imkQd8KqSk6a",
        "outputId": "f1276f51-21a9-40aa-eb06-4f4ab55e8140"
      },
      "execution_count": 9,
      "outputs": [
        {
          "output_type": "execute_result",
          "data": {
            "text/plain": [
              "ID                         0.000000\n",
              "Gender                     0.081586\n",
              "Customer_Type              9.484101\n",
              "Age                        0.034965\n",
              "Type_Travel                9.775480\n",
              "Travel_Class               0.000000\n",
              "Travel_Distance            0.000000\n",
              "Departure_Delay_in_Mins    0.060395\n",
              "Arrival_Delay_in_Mins      0.378262\n",
              "dtype: float64"
            ]
          },
          "metadata": {},
          "execution_count": 9
        }
      ]
    },
    {
      "cell_type": "code",
      "source": [
        "len(travel_data_train['ID'].unique())"
      ],
      "metadata": {
        "colab": {
          "base_uri": "https://localhost:8080/"
        },
        "id": "ZJ-qBO9gJKXb",
        "outputId": "ef8ba3ff-93f4-4ad5-9b69-60bba0adda1f"
      },
      "execution_count": 10,
      "outputs": [
        {
          "output_type": "execute_result",
          "data": {
            "text/plain": [
              "94379"
            ]
          },
          "metadata": {},
          "execution_count": 10
        }
      ]
    },
    {
      "cell_type": "markdown",
      "source": [
        "First observations :\n",
        "- the train dataset contains 94379 events with unique ID (column 'ID')\n",
        "- 8 other columns have been populated \n",
        "  - Gender with 77 missing values (~0.1%)\n",
        "  - Customer_Type with 8951 missing values (~10%)\n",
        "  - Age (range 7 - 85) with 33 missing values (~0.03%)\n",
        "  - Type_Travel with 9226 missing values (~10%)\n",
        "  - Travel_Class with no missing value\n",
        "  - Travel_Distance (range 50 - 6951) with no missing value\n",
        "  - Departure_Delay_in_Mins (range 0 - 1592) with 57 missing values (~0.06%)\n",
        "  - Arrival_Delay_in_Mins (range 0 - 1584) with 357 missing values (~0.38%) => note : this is almost the same range as departure. Could be useful for missing values"
      ],
      "metadata": {
        "id": "wezJp4QpJHGJ"
      }
    },
    {
      "cell_type": "markdown",
      "source": [
        "Verify values of 'Gender', 'Customer_Type', 'Type_Travel\\', 'Travel_Class'"
      ],
      "metadata": {
        "id": "dp7FynRGKxLR"
      }
    },
    {
      "cell_type": "code",
      "source": [
        "print('values of Gender')\n",
        "print(travel_data_train['Gender'].unique())\n",
        "print('values of Customer_Type')\n",
        "print(travel_data_train['Customer_Type'].unique())\n",
        "print('values of Type_Travel')\n",
        "print(travel_data_train['Type_Travel'].unique())\n",
        "print('values of Travel_Class')\n",
        "print(travel_data_train['Travel_Class'].unique())"
      ],
      "metadata": {
        "colab": {
          "base_uri": "https://localhost:8080/"
        },
        "id": "i7aO0eLoKwm1",
        "outputId": "cf0268b0-1289-4724-b1cc-51b3e06c8f8a"
      },
      "execution_count": 11,
      "outputs": [
        {
          "output_type": "stream",
          "name": "stdout",
          "text": [
            "values of Gender\n",
            "['Female' 'Male' nan]\n",
            "values of Customer_Type\n",
            "['Loyal Customer' 'Disloyal Customer' nan]\n",
            "values of Type_Travel\n",
            "[nan 'Personal Travel' 'Business Travel']\n",
            "values of Travel_Class\n",
            "['Business' 'Eco']\n"
          ]
        }
      ]
    },
    {
      "cell_type": "markdown",
      "source": [
        "Next observation :\n",
        "- Once nan fixed, 'Gender', 'Customer_Type', 'Type_Travel', 'Travel_Class' can be encoded\n",
        "\n",
        "\n"
      ],
      "metadata": {
        "id": "lcVuq7POIalN"
      }
    },
    {
      "cell_type": "markdown",
      "source": [
        "### survey data train"
      ],
      "metadata": {
        "id": "gHF8opE8nEZ6"
      }
    },
    {
      "cell_type": "code",
      "source": [
        "print(survey_data_train.head())\n",
        "print(survey_data_train.tail())"
      ],
      "metadata": {
        "colab": {
          "base_uri": "https://localhost:8080/"
        },
        "id": "hAbm_GO0nLEU",
        "outputId": "f8b8b058-5df2-46e4-9846-587e40d33bd2"
      },
      "execution_count": 12,
      "outputs": [
        {
          "output_type": "stream",
          "name": "stdout",
          "text": [
            "         ID  Overall_Experience       Seat_Comfort Seat_Class  \\\n",
            "0  98800001                   0  Needs Improvement  Green Car   \n",
            "1  98800002                   0               Poor   Ordinary   \n",
            "2  98800003                   1  Needs Improvement  Green Car   \n",
            "3  98800004                   0         Acceptable   Ordinary   \n",
            "4  98800005                   1         Acceptable   Ordinary   \n",
            "\n",
            "  Arrival_Time_Convenient           Catering  Platform_Location  \\\n",
            "0               Excellent          Excellent    Very Convenient   \n",
            "1               Excellent               Poor  Needs Improvement   \n",
            "2       Needs Improvement  Needs Improvement  Needs Improvement   \n",
            "3       Needs Improvement                NaN  Needs Improvement   \n",
            "4              Acceptable         Acceptable         Manageable   \n",
            "\n",
            "  Onboard_Wifi_Service Onboard_Entertainment Online_Support  \\\n",
            "0                 Good     Needs Improvement     Acceptable   \n",
            "1                 Good                  Poor           Good   \n",
            "2    Needs Improvement                  Good      Excellent   \n",
            "3           Acceptable     Needs Improvement     Acceptable   \n",
            "4    Needs Improvement                  Good      Excellent   \n",
            "\n",
            "  Ease_of_Online_Booking    Onboard_Service            Legroom  \\\n",
            "0      Needs Improvement  Needs Improvement         Acceptable   \n",
            "1                   Good          Excellent  Needs Improvement   \n",
            "2              Excellent          Excellent          Excellent   \n",
            "3             Acceptable         Acceptable         Acceptable   \n",
            "4                   Good               Good               Good   \n",
            "\n",
            "    Baggage_Handling    CheckIn_Service        Cleanliness Online_Boarding  \n",
            "0  Needs Improvement               Good  Needs Improvement            Poor  \n",
            "1               Poor  Needs Improvement               Good            Good  \n",
            "2          Excellent               Good          Excellent       Excellent  \n",
            "3         Acceptable               Good         Acceptable      Acceptable  \n",
            "4               Good               Good               Good            Good  \n",
            "             ID  Overall_Experience       Seat_Comfort Seat_Class  \\\n",
            "94374  98894375                   0               Poor   Ordinary   \n",
            "94375  98894376                   1               Good   Ordinary   \n",
            "94376  98894377                   1  Needs Improvement  Green Car   \n",
            "94377  98894378                   0  Needs Improvement   Ordinary   \n",
            "94378  98894379                   0         Acceptable   Ordinary   \n",
            "\n",
            "      Arrival_Time_Convenient           Catering  Platform_Location  \\\n",
            "94374                    Good               Good         Convenient   \n",
            "94375                    Good               Good         Convenient   \n",
            "94376       Needs Improvement  Needs Improvement  Needs Improvement   \n",
            "94377                     NaN  Needs Improvement         Convenient   \n",
            "94378                    Poor         Acceptable         Manageable   \n",
            "\n",
            "      Onboard_Wifi_Service Onboard_Entertainment Online_Support  \\\n",
            "94374                 Poor                  Poor           Poor   \n",
            "94375    Needs Improvement             Excellent      Excellent   \n",
            "94376                 Good             Excellent           Good   \n",
            "94377                 Good     Needs Improvement           Good   \n",
            "94378           Acceptable            Acceptable     Acceptable   \n",
            "\n",
            "      Ease_of_Online_Booking Onboard_Service     Legroom Baggage_Handling  \\\n",
            "94374                   Poor            Good        Good             Good   \n",
            "94375             Acceptable      Acceptable  Acceptable       Acceptable   \n",
            "94376                   Good            Good        Good             Good   \n",
            "94377                   Good      Acceptable        Good             Good   \n",
            "94378             Acceptable            Poor        Good             Good   \n",
            "\n",
            "         CheckIn_Service Cleanliness Online_Boarding  \n",
            "94374  Needs Improvement        Good            Poor  \n",
            "94375               Good  Acceptable            Good  \n",
            "94376         Acceptable        Good      Acceptable  \n",
            "94377               Good   Excellent            Good  \n",
            "94378               Poor        Good      Acceptable  \n"
          ]
        }
      ]
    },
    {
      "cell_type": "code",
      "source": [
        "survey_data_train.describe().T"
      ],
      "metadata": {
        "colab": {
          "base_uri": "https://localhost:8080/",
          "height": 111
        },
        "id": "n0UpR5sHnfba",
        "outputId": "e6d2b5ea-f395-4ffc-8be3-c522fef55f7f"
      },
      "execution_count": 13,
      "outputs": [
        {
          "output_type": "execute_result",
          "data": {
            "text/plain": [
              "                      count          mean           std         min  \\\n",
              "ID                  94379.0  9.884719e+07  27245.014865  98800001.0   \n",
              "Overall_Experience  94379.0  5.466576e-01      0.497821         0.0   \n",
              "\n",
              "                           25%         50%         75%         max  \n",
              "ID                  98823595.5  98847190.0  98870784.5  98894379.0  \n",
              "Overall_Experience         0.0         1.0         1.0         1.0  "
            ],
            "text/html": [
              "\n",
              "  <div id=\"df-14de642a-db79-445c-868f-9314e0d1eb20\">\n",
              "    <div class=\"colab-df-container\">\n",
              "      <div>\n",
              "<style scoped>\n",
              "    .dataframe tbody tr th:only-of-type {\n",
              "        vertical-align: middle;\n",
              "    }\n",
              "\n",
              "    .dataframe tbody tr th {\n",
              "        vertical-align: top;\n",
              "    }\n",
              "\n",
              "    .dataframe thead th {\n",
              "        text-align: right;\n",
              "    }\n",
              "</style>\n",
              "<table border=\"1\" class=\"dataframe\">\n",
              "  <thead>\n",
              "    <tr style=\"text-align: right;\">\n",
              "      <th></th>\n",
              "      <th>count</th>\n",
              "      <th>mean</th>\n",
              "      <th>std</th>\n",
              "      <th>min</th>\n",
              "      <th>25%</th>\n",
              "      <th>50%</th>\n",
              "      <th>75%</th>\n",
              "      <th>max</th>\n",
              "    </tr>\n",
              "  </thead>\n",
              "  <tbody>\n",
              "    <tr>\n",
              "      <th>ID</th>\n",
              "      <td>94379.0</td>\n",
              "      <td>9.884719e+07</td>\n",
              "      <td>27245.014865</td>\n",
              "      <td>98800001.0</td>\n",
              "      <td>98823595.5</td>\n",
              "      <td>98847190.0</td>\n",
              "      <td>98870784.5</td>\n",
              "      <td>98894379.0</td>\n",
              "    </tr>\n",
              "    <tr>\n",
              "      <th>Overall_Experience</th>\n",
              "      <td>94379.0</td>\n",
              "      <td>5.466576e-01</td>\n",
              "      <td>0.497821</td>\n",
              "      <td>0.0</td>\n",
              "      <td>0.0</td>\n",
              "      <td>1.0</td>\n",
              "      <td>1.0</td>\n",
              "      <td>1.0</td>\n",
              "    </tr>\n",
              "  </tbody>\n",
              "</table>\n",
              "</div>\n",
              "      <button class=\"colab-df-convert\" onclick=\"convertToInteractive('df-14de642a-db79-445c-868f-9314e0d1eb20')\"\n",
              "              title=\"Convert this dataframe to an interactive table.\"\n",
              "              style=\"display:none;\">\n",
              "        \n",
              "  <svg xmlns=\"http://www.w3.org/2000/svg\" height=\"24px\"viewBox=\"0 0 24 24\"\n",
              "       width=\"24px\">\n",
              "    <path d=\"M0 0h24v24H0V0z\" fill=\"none\"/>\n",
              "    <path d=\"M18.56 5.44l.94 2.06.94-2.06 2.06-.94-2.06-.94-.94-2.06-.94 2.06-2.06.94zm-11 1L8.5 8.5l.94-2.06 2.06-.94-2.06-.94L8.5 2.5l-.94 2.06-2.06.94zm10 10l.94 2.06.94-2.06 2.06-.94-2.06-.94-.94-2.06-.94 2.06-2.06.94z\"/><path d=\"M17.41 7.96l-1.37-1.37c-.4-.4-.92-.59-1.43-.59-.52 0-1.04.2-1.43.59L10.3 9.45l-7.72 7.72c-.78.78-.78 2.05 0 2.83L4 21.41c.39.39.9.59 1.41.59.51 0 1.02-.2 1.41-.59l7.78-7.78 2.81-2.81c.8-.78.8-2.07 0-2.86zM5.41 20L4 18.59l7.72-7.72 1.47 1.35L5.41 20z\"/>\n",
              "  </svg>\n",
              "      </button>\n",
              "      \n",
              "  <style>\n",
              "    .colab-df-container {\n",
              "      display:flex;\n",
              "      flex-wrap:wrap;\n",
              "      gap: 12px;\n",
              "    }\n",
              "\n",
              "    .colab-df-convert {\n",
              "      background-color: #E8F0FE;\n",
              "      border: none;\n",
              "      border-radius: 50%;\n",
              "      cursor: pointer;\n",
              "      display: none;\n",
              "      fill: #1967D2;\n",
              "      height: 32px;\n",
              "      padding: 0 0 0 0;\n",
              "      width: 32px;\n",
              "    }\n",
              "\n",
              "    .colab-df-convert:hover {\n",
              "      background-color: #E2EBFA;\n",
              "      box-shadow: 0px 1px 2px rgba(60, 64, 67, 0.3), 0px 1px 3px 1px rgba(60, 64, 67, 0.15);\n",
              "      fill: #174EA6;\n",
              "    }\n",
              "\n",
              "    [theme=dark] .colab-df-convert {\n",
              "      background-color: #3B4455;\n",
              "      fill: #D2E3FC;\n",
              "    }\n",
              "\n",
              "    [theme=dark] .colab-df-convert:hover {\n",
              "      background-color: #434B5C;\n",
              "      box-shadow: 0px 1px 3px 1px rgba(0, 0, 0, 0.15);\n",
              "      filter: drop-shadow(0px 1px 2px rgba(0, 0, 0, 0.3));\n",
              "      fill: #FFFFFF;\n",
              "    }\n",
              "  </style>\n",
              "\n",
              "      <script>\n",
              "        const buttonEl =\n",
              "          document.querySelector('#df-14de642a-db79-445c-868f-9314e0d1eb20 button.colab-df-convert');\n",
              "        buttonEl.style.display =\n",
              "          google.colab.kernel.accessAllowed ? 'block' : 'none';\n",
              "\n",
              "        async function convertToInteractive(key) {\n",
              "          const element = document.querySelector('#df-14de642a-db79-445c-868f-9314e0d1eb20');\n",
              "          const dataTable =\n",
              "            await google.colab.kernel.invokeFunction('convertToInteractive',\n",
              "                                                     [key], {});\n",
              "          if (!dataTable) return;\n",
              "\n",
              "          const docLinkHtml = 'Like what you see? Visit the ' +\n",
              "            '<a target=\"_blank\" href=https://colab.research.google.com/notebooks/data_table.ipynb>data table notebook</a>'\n",
              "            + ' to learn more about interactive tables.';\n",
              "          element.innerHTML = '';\n",
              "          dataTable['output_type'] = 'display_data';\n",
              "          await google.colab.output.renderOutput(dataTable, element);\n",
              "          const docLink = document.createElement('div');\n",
              "          docLink.innerHTML = docLinkHtml;\n",
              "          element.appendChild(docLink);\n",
              "        }\n",
              "      </script>\n",
              "    </div>\n",
              "  </div>\n",
              "  "
            ]
          },
          "metadata": {},
          "execution_count": 13
        }
      ]
    },
    {
      "cell_type": "code",
      "source": [
        "survey_data_train.info()"
      ],
      "metadata": {
        "colab": {
          "base_uri": "https://localhost:8080/"
        },
        "id": "uuJDoMB5nkjt",
        "outputId": "39542048-1720-4d83-ffbe-ebd089a93eca"
      },
      "execution_count": 14,
      "outputs": [
        {
          "output_type": "stream",
          "name": "stdout",
          "text": [
            "<class 'pandas.core.frame.DataFrame'>\n",
            "RangeIndex: 94379 entries, 0 to 94378\n",
            "Data columns (total 17 columns):\n",
            " #   Column                   Non-Null Count  Dtype \n",
            "---  ------                   --------------  ----- \n",
            " 0   ID                       94379 non-null  int64 \n",
            " 1   Overall_Experience       94379 non-null  int64 \n",
            " 2   Seat_Comfort             94318 non-null  object\n",
            " 3   Seat_Class               94379 non-null  object\n",
            " 4   Arrival_Time_Convenient  85449 non-null  object\n",
            " 5   Catering                 85638 non-null  object\n",
            " 6   Platform_Location        94349 non-null  object\n",
            " 7   Onboard_Wifi_Service     94349 non-null  object\n",
            " 8   Onboard_Entertainment    94361 non-null  object\n",
            " 9   Online_Support           94288 non-null  object\n",
            " 10  Ease_of_Online_Booking   94306 non-null  object\n",
            " 11  Onboard_Service          86778 non-null  object\n",
            " 12  Legroom                  94289 non-null  object\n",
            " 13  Baggage_Handling         94237 non-null  object\n",
            " 14  CheckIn_Service          94302 non-null  object\n",
            " 15  Cleanliness              94373 non-null  object\n",
            " 16  Online_Boarding          94373 non-null  object\n",
            "dtypes: int64(2), object(15)\n",
            "memory usage: 12.2+ MB\n"
          ]
        }
      ]
    },
    {
      "cell_type": "code",
      "source": [
        "travel_data_train['ID'].equals(survey_data_train['ID'])"
      ],
      "metadata": {
        "colab": {
          "base_uri": "https://localhost:8080/"
        },
        "id": "T_pi_OP5oDze",
        "outputId": "ae4fc73f-260a-48e1-84eb-6c61cd773e46"
      },
      "execution_count": 15,
      "outputs": [
        {
          "output_type": "execute_result",
          "data": {
            "text/plain": [
              "True"
            ]
          },
          "metadata": {},
          "execution_count": 15
        }
      ]
    },
    {
      "cell_type": "markdown",
      "source": [
        "All events in survey_data_train and travel_data_train share the same IDs\n"
      ],
      "metadata": {
        "id": "GNA0HF01oWNR"
      }
    },
    {
      "cell_type": "markdown",
      "source": [
        "Verify values of 'Seat_Comfort', 'Seat_Class', 'Arrival_Time_Convenient', 'Catering', 'Platform_Location', 'Onboard_Wifi_Service', 'Legroom', 'Baggage_Handling', 'CheckIn_Service', 'Cleanliness', 'Online_Boarding'"
      ],
      "metadata": {
        "id": "883HOGL0o9FY"
      }
    },
    {
      "cell_type": "code",
      "source": [
        "print('values of Seat_Comfort')\n",
        "print(survey_data_train['Seat_Comfort'].unique())\n",
        "print('values of Seat_Class')\n",
        "print(survey_data_train['Seat_Class'].unique())\n",
        "print('values of Arrival_Time_Convenient')\n",
        "print(survey_data_train['Arrival_Time_Convenient'].unique())\n",
        "print('values of Catering')\n",
        "print(survey_data_train['Catering'].unique())\n",
        "print('values of Platform_Location')\n",
        "print(survey_data_train['Platform_Location'].unique())\n",
        "print('values of Onboard_Wifi_Service')\n",
        "print(survey_data_train['Onboard_Wifi_Service'].unique())\n",
        "print('values of Legroom')\n",
        "print(survey_data_train['Legroom'].unique())\n",
        "print('values of Baggage_Handling')\n",
        "print(survey_data_train['Baggage_Handling'].unique())\n",
        "print('values of CheckIn_Service')\n",
        "print(survey_data_train['CheckIn_Service'].unique())\n",
        "print('values of Cleanliness')\n",
        "print(survey_data_train['Cleanliness'].unique())\n",
        "print('values of Online_Boarding')\n",
        "print(survey_data_train['Online_Boarding'].unique())\n",
        "\n"
      ],
      "metadata": {
        "colab": {
          "base_uri": "https://localhost:8080/"
        },
        "id": "D3MAVbKMozZk",
        "outputId": "3fecaa50-b2ac-4e00-84f1-f3a01c47d18e"
      },
      "execution_count": 16,
      "outputs": [
        {
          "output_type": "stream",
          "name": "stdout",
          "text": [
            "values of Seat_Comfort\n",
            "['Needs Improvement' 'Poor' 'Acceptable' 'Good' 'Excellent'\n",
            " 'Extremely Poor' nan]\n",
            "values of Seat_Class\n",
            "['Green Car' 'Ordinary']\n",
            "values of Arrival_Time_Convenient\n",
            "['Excellent' 'Needs Improvement' 'Acceptable' nan 'Good' 'Poor'\n",
            " 'Extremely Poor']\n",
            "values of Catering\n",
            "['Excellent' 'Poor' 'Needs Improvement' nan 'Acceptable' 'Good'\n",
            " 'Extremely Poor']\n",
            "values of Platform_Location\n",
            "['Very Convenient' 'Needs Improvement' 'Manageable' 'Inconvenient'\n",
            " 'Convenient' nan 'Very Inconvenient']\n",
            "values of Onboard_Wifi_Service\n",
            "['Good' 'Needs Improvement' 'Acceptable' 'Excellent' 'Poor'\n",
            " 'Extremely Poor' nan]\n",
            "values of Legroom\n",
            "['Acceptable' 'Needs Improvement' 'Excellent' 'Good' 'Poor'\n",
            " 'Extremely Poor' nan]\n",
            "values of Baggage_Handling\n",
            "['Needs Improvement' 'Poor' 'Excellent' 'Acceptable' 'Good' nan]\n",
            "values of CheckIn_Service\n",
            "['Good' 'Needs Improvement' 'Acceptable' 'Excellent' 'Poor' nan\n",
            " 'Extremely Poor']\n",
            "values of Cleanliness\n",
            "['Needs Improvement' 'Good' 'Excellent' 'Acceptable' 'Poor'\n",
            " 'Extremely Poor' nan]\n",
            "values of Online_Boarding\n",
            "['Poor' 'Good' 'Excellent' 'Acceptable' 'Needs Improvement' nan\n",
            " 'Extremely Poor']\n"
          ]
        }
      ]
    },
    {
      "cell_type": "markdown",
      "source": [
        "The values of 'Seat_Comfort', 'Seat_Class', 'Arrival_Time_Convenient', 'Catering', 'Platform_Location', 'Onboard_Wifi_Service', 'Legroom', 'Baggage_Handling', 'CheckIn_Service', 'Cleanliness', 'Online_Boarding' can be encoded (once nan values fixed)\n"
      ],
      "metadata": {
        "id": "vEDIIbK9GDpx"
      }
    },
    {
      "cell_type": "markdown",
      "source": [
        "### train parts : merge survey dataset and travel dataset"
      ],
      "metadata": {
        "id": "2THM6qe5GR2w"
      }
    },
    {
      "cell_type": "code",
      "source": [
        "train_dataset = pd.merge(travel_data_train, survey_data_train, on='ID')"
      ],
      "metadata": {
        "id": "H7eGc1p8GRGd"
      },
      "execution_count": 23,
      "outputs": []
    },
    {
      "cell_type": "markdown",
      "source": [
        "### Descriptive statistics on train dataset (merged one)"
      ],
      "metadata": {
        "id": "zLsQcz--JX0b"
      }
    },
    {
      "cell_type": "code",
      "source": [
        "train_dataset.info()"
      ],
      "metadata": {
        "colab": {
          "base_uri": "https://localhost:8080/"
        },
        "id": "wkU2dIEeMgbZ",
        "outputId": "8c9546de-f0bc-473d-d030-abbd9f20350a"
      },
      "execution_count": 24,
      "outputs": [
        {
          "output_type": "stream",
          "name": "stdout",
          "text": [
            "<class 'pandas.core.frame.DataFrame'>\n",
            "Int64Index: 94379 entries, 0 to 94378\n",
            "Data columns (total 25 columns):\n",
            " #   Column                   Non-Null Count  Dtype  \n",
            "---  ------                   --------------  -----  \n",
            " 0   ID                       94379 non-null  int64  \n",
            " 1   Gender                   94302 non-null  object \n",
            " 2   Customer_Type            85428 non-null  object \n",
            " 3   Age                      94346 non-null  float64\n",
            " 4   Type_Travel              85153 non-null  object \n",
            " 5   Travel_Class             94379 non-null  object \n",
            " 6   Travel_Distance          94379 non-null  int64  \n",
            " 7   Departure_Delay_in_Mins  94322 non-null  float64\n",
            " 8   Arrival_Delay_in_Mins    94022 non-null  float64\n",
            " 9   Overall_Experience       94379 non-null  int64  \n",
            " 10  Seat_Comfort             94318 non-null  object \n",
            " 11  Seat_Class               94379 non-null  object \n",
            " 12  Arrival_Time_Convenient  85449 non-null  object \n",
            " 13  Catering                 85638 non-null  object \n",
            " 14  Platform_Location        94349 non-null  object \n",
            " 15  Onboard_Wifi_Service     94349 non-null  object \n",
            " 16  Onboard_Entertainment    94361 non-null  object \n",
            " 17  Online_Support           94288 non-null  object \n",
            " 18  Ease_of_Online_Booking   94306 non-null  object \n",
            " 19  Onboard_Service          86778 non-null  object \n",
            " 20  Legroom                  94289 non-null  object \n",
            " 21  Baggage_Handling         94237 non-null  object \n",
            " 22  CheckIn_Service          94302 non-null  object \n",
            " 23  Cleanliness              94373 non-null  object \n",
            " 24  Online_Boarding          94373 non-null  object \n",
            "dtypes: float64(3), int64(3), object(19)\n",
            "memory usage: 18.7+ MB\n"
          ]
        }
      ]
    },
    {
      "cell_type": "markdown",
      "source": [
        "The first feature is useless so we can drop it"
      ],
      "metadata": {
        "id": "i0Io8Va6NWD7"
      }
    },
    {
      "cell_type": "code",
      "source": [
        "train_dataset = train_dataset.drop(train_dataset.iloc[:,[0]], axis = 1)\n",
        "train_dataset.info()"
      ],
      "metadata": {
        "colab": {
          "base_uri": "https://localhost:8080/"
        },
        "id": "NWKN4GDiNcOl",
        "outputId": "41942718-a5a0-4758-9ba2-deb8f189bcc2"
      },
      "execution_count": 26,
      "outputs": [
        {
          "output_type": "stream",
          "name": "stdout",
          "text": [
            "<class 'pandas.core.frame.DataFrame'>\n",
            "Int64Index: 94379 entries, 0 to 94378\n",
            "Data columns (total 23 columns):\n",
            " #   Column                   Non-Null Count  Dtype  \n",
            "---  ------                   --------------  -----  \n",
            " 0   Customer_Type            85428 non-null  object \n",
            " 1   Age                      94346 non-null  float64\n",
            " 2   Type_Travel              85153 non-null  object \n",
            " 3   Travel_Class             94379 non-null  object \n",
            " 4   Travel_Distance          94379 non-null  int64  \n",
            " 5   Departure_Delay_in_Mins  94322 non-null  float64\n",
            " 6   Arrival_Delay_in_Mins    94022 non-null  float64\n",
            " 7   Overall_Experience       94379 non-null  int64  \n",
            " 8   Seat_Comfort             94318 non-null  object \n",
            " 9   Seat_Class               94379 non-null  object \n",
            " 10  Arrival_Time_Convenient  85449 non-null  object \n",
            " 11  Catering                 85638 non-null  object \n",
            " 12  Platform_Location        94349 non-null  object \n",
            " 13  Onboard_Wifi_Service     94349 non-null  object \n",
            " 14  Onboard_Entertainment    94361 non-null  object \n",
            " 15  Online_Support           94288 non-null  object \n",
            " 16  Ease_of_Online_Booking   94306 non-null  object \n",
            " 17  Onboard_Service          86778 non-null  object \n",
            " 18  Legroom                  94289 non-null  object \n",
            " 19  Baggage_Handling         94237 non-null  object \n",
            " 20  CheckIn_Service          94302 non-null  object \n",
            " 21  Cleanliness              94373 non-null  object \n",
            " 22  Online_Boarding          94373 non-null  object \n",
            "dtypes: float64(3), int64(2), object(18)\n",
            "memory usage: 17.3+ MB\n"
          ]
        }
      ]
    },
    {
      "cell_type": "markdown",
      "source": [
        "Prepare categorical indices"
      ],
      "metadata": {
        "id": "i10qpB35N_q_"
      }
    },
    {
      "cell_type": "code",
      "source": [
        "categorical_indexes = [0, 2, 3] + list(range(8, 23))\n",
        "train_dataset.iloc[:,categorical_indexes] = train_dataset.iloc[:,categorical_indexes].astype('category')\n",
        "train_dataset.describe(include=['category']).T"
      ],
      "metadata": {
        "colab": {
          "base_uri": "https://localhost:8080/",
          "height": 607
        },
        "id": "3own2I9MOD8j",
        "outputId": "ab3a6631-c46a-4785-ce6b-d884be158b7c"
      },
      "execution_count": 29,
      "outputs": [
        {
          "output_type": "execute_result",
          "data": {
            "text/plain": [
              "                         count unique              top   freq\n",
              "Customer_Type            85428      2   Loyal Customer  69823\n",
              "Type_Travel              85153      2  Business Travel  58617\n",
              "Travel_Class             94379      2              Eco  49342\n",
              "Seat_Comfort             94318      6       Acceptable  21158\n",
              "Seat_Class               94379      2        Green Car  47435\n",
              "Arrival_Time_Convenient  85449      6             Good  19574\n",
              "Catering                 85638      6       Acceptable  18468\n",
              "Platform_Location        94349      6       Manageable  24173\n",
              "Onboard_Wifi_Service     94349      6             Good  22835\n",
              "Onboard_Entertainment    94361      6             Good  30446\n",
              "Online_Support           94288      6             Good  30016\n",
              "Ease_of_Online_Booking   94306      6             Good  28909\n",
              "Onboard_Service          86778      6             Good  27265\n",
              "Legroom                  94289      6             Good  28870\n",
              "Baggage_Handling         94237      5             Good  34944\n",
              "CheckIn_Service          94302      6             Good  26502\n",
              "Cleanliness              94373      6             Good  35427\n",
              "Online_Boarding          94373      6             Good  25533"
            ],
            "text/html": [
              "\n",
              "  <div id=\"df-708d7245-400c-4ec9-926c-a43dcb31ee4e\">\n",
              "    <div class=\"colab-df-container\">\n",
              "      <div>\n",
              "<style scoped>\n",
              "    .dataframe tbody tr th:only-of-type {\n",
              "        vertical-align: middle;\n",
              "    }\n",
              "\n",
              "    .dataframe tbody tr th {\n",
              "        vertical-align: top;\n",
              "    }\n",
              "\n",
              "    .dataframe thead th {\n",
              "        text-align: right;\n",
              "    }\n",
              "</style>\n",
              "<table border=\"1\" class=\"dataframe\">\n",
              "  <thead>\n",
              "    <tr style=\"text-align: right;\">\n",
              "      <th></th>\n",
              "      <th>count</th>\n",
              "      <th>unique</th>\n",
              "      <th>top</th>\n",
              "      <th>freq</th>\n",
              "    </tr>\n",
              "  </thead>\n",
              "  <tbody>\n",
              "    <tr>\n",
              "      <th>Customer_Type</th>\n",
              "      <td>85428</td>\n",
              "      <td>2</td>\n",
              "      <td>Loyal Customer</td>\n",
              "      <td>69823</td>\n",
              "    </tr>\n",
              "    <tr>\n",
              "      <th>Type_Travel</th>\n",
              "      <td>85153</td>\n",
              "      <td>2</td>\n",
              "      <td>Business Travel</td>\n",
              "      <td>58617</td>\n",
              "    </tr>\n",
              "    <tr>\n",
              "      <th>Travel_Class</th>\n",
              "      <td>94379</td>\n",
              "      <td>2</td>\n",
              "      <td>Eco</td>\n",
              "      <td>49342</td>\n",
              "    </tr>\n",
              "    <tr>\n",
              "      <th>Seat_Comfort</th>\n",
              "      <td>94318</td>\n",
              "      <td>6</td>\n",
              "      <td>Acceptable</td>\n",
              "      <td>21158</td>\n",
              "    </tr>\n",
              "    <tr>\n",
              "      <th>Seat_Class</th>\n",
              "      <td>94379</td>\n",
              "      <td>2</td>\n",
              "      <td>Green Car</td>\n",
              "      <td>47435</td>\n",
              "    </tr>\n",
              "    <tr>\n",
              "      <th>Arrival_Time_Convenient</th>\n",
              "      <td>85449</td>\n",
              "      <td>6</td>\n",
              "      <td>Good</td>\n",
              "      <td>19574</td>\n",
              "    </tr>\n",
              "    <tr>\n",
              "      <th>Catering</th>\n",
              "      <td>85638</td>\n",
              "      <td>6</td>\n",
              "      <td>Acceptable</td>\n",
              "      <td>18468</td>\n",
              "    </tr>\n",
              "    <tr>\n",
              "      <th>Platform_Location</th>\n",
              "      <td>94349</td>\n",
              "      <td>6</td>\n",
              "      <td>Manageable</td>\n",
              "      <td>24173</td>\n",
              "    </tr>\n",
              "    <tr>\n",
              "      <th>Onboard_Wifi_Service</th>\n",
              "      <td>94349</td>\n",
              "      <td>6</td>\n",
              "      <td>Good</td>\n",
              "      <td>22835</td>\n",
              "    </tr>\n",
              "    <tr>\n",
              "      <th>Onboard_Entertainment</th>\n",
              "      <td>94361</td>\n",
              "      <td>6</td>\n",
              "      <td>Good</td>\n",
              "      <td>30446</td>\n",
              "    </tr>\n",
              "    <tr>\n",
              "      <th>Online_Support</th>\n",
              "      <td>94288</td>\n",
              "      <td>6</td>\n",
              "      <td>Good</td>\n",
              "      <td>30016</td>\n",
              "    </tr>\n",
              "    <tr>\n",
              "      <th>Ease_of_Online_Booking</th>\n",
              "      <td>94306</td>\n",
              "      <td>6</td>\n",
              "      <td>Good</td>\n",
              "      <td>28909</td>\n",
              "    </tr>\n",
              "    <tr>\n",
              "      <th>Onboard_Service</th>\n",
              "      <td>86778</td>\n",
              "      <td>6</td>\n",
              "      <td>Good</td>\n",
              "      <td>27265</td>\n",
              "    </tr>\n",
              "    <tr>\n",
              "      <th>Legroom</th>\n",
              "      <td>94289</td>\n",
              "      <td>6</td>\n",
              "      <td>Good</td>\n",
              "      <td>28870</td>\n",
              "    </tr>\n",
              "    <tr>\n",
              "      <th>Baggage_Handling</th>\n",
              "      <td>94237</td>\n",
              "      <td>5</td>\n",
              "      <td>Good</td>\n",
              "      <td>34944</td>\n",
              "    </tr>\n",
              "    <tr>\n",
              "      <th>CheckIn_Service</th>\n",
              "      <td>94302</td>\n",
              "      <td>6</td>\n",
              "      <td>Good</td>\n",
              "      <td>26502</td>\n",
              "    </tr>\n",
              "    <tr>\n",
              "      <th>Cleanliness</th>\n",
              "      <td>94373</td>\n",
              "      <td>6</td>\n",
              "      <td>Good</td>\n",
              "      <td>35427</td>\n",
              "    </tr>\n",
              "    <tr>\n",
              "      <th>Online_Boarding</th>\n",
              "      <td>94373</td>\n",
              "      <td>6</td>\n",
              "      <td>Good</td>\n",
              "      <td>25533</td>\n",
              "    </tr>\n",
              "  </tbody>\n",
              "</table>\n",
              "</div>\n",
              "      <button class=\"colab-df-convert\" onclick=\"convertToInteractive('df-708d7245-400c-4ec9-926c-a43dcb31ee4e')\"\n",
              "              title=\"Convert this dataframe to an interactive table.\"\n",
              "              style=\"display:none;\">\n",
              "        \n",
              "  <svg xmlns=\"http://www.w3.org/2000/svg\" height=\"24px\"viewBox=\"0 0 24 24\"\n",
              "       width=\"24px\">\n",
              "    <path d=\"M0 0h24v24H0V0z\" fill=\"none\"/>\n",
              "    <path d=\"M18.56 5.44l.94 2.06.94-2.06 2.06-.94-2.06-.94-.94-2.06-.94 2.06-2.06.94zm-11 1L8.5 8.5l.94-2.06 2.06-.94-2.06-.94L8.5 2.5l-.94 2.06-2.06.94zm10 10l.94 2.06.94-2.06 2.06-.94-2.06-.94-.94-2.06-.94 2.06-2.06.94z\"/><path d=\"M17.41 7.96l-1.37-1.37c-.4-.4-.92-.59-1.43-.59-.52 0-1.04.2-1.43.59L10.3 9.45l-7.72 7.72c-.78.78-.78 2.05 0 2.83L4 21.41c.39.39.9.59 1.41.59.51 0 1.02-.2 1.41-.59l7.78-7.78 2.81-2.81c.8-.78.8-2.07 0-2.86zM5.41 20L4 18.59l7.72-7.72 1.47 1.35L5.41 20z\"/>\n",
              "  </svg>\n",
              "      </button>\n",
              "      \n",
              "  <style>\n",
              "    .colab-df-container {\n",
              "      display:flex;\n",
              "      flex-wrap:wrap;\n",
              "      gap: 12px;\n",
              "    }\n",
              "\n",
              "    .colab-df-convert {\n",
              "      background-color: #E8F0FE;\n",
              "      border: none;\n",
              "      border-radius: 50%;\n",
              "      cursor: pointer;\n",
              "      display: none;\n",
              "      fill: #1967D2;\n",
              "      height: 32px;\n",
              "      padding: 0 0 0 0;\n",
              "      width: 32px;\n",
              "    }\n",
              "\n",
              "    .colab-df-convert:hover {\n",
              "      background-color: #E2EBFA;\n",
              "      box-shadow: 0px 1px 2px rgba(60, 64, 67, 0.3), 0px 1px 3px 1px rgba(60, 64, 67, 0.15);\n",
              "      fill: #174EA6;\n",
              "    }\n",
              "\n",
              "    [theme=dark] .colab-df-convert {\n",
              "      background-color: #3B4455;\n",
              "      fill: #D2E3FC;\n",
              "    }\n",
              "\n",
              "    [theme=dark] .colab-df-convert:hover {\n",
              "      background-color: #434B5C;\n",
              "      box-shadow: 0px 1px 3px 1px rgba(0, 0, 0, 0.15);\n",
              "      filter: drop-shadow(0px 1px 2px rgba(0, 0, 0, 0.3));\n",
              "      fill: #FFFFFF;\n",
              "    }\n",
              "  </style>\n",
              "\n",
              "      <script>\n",
              "        const buttonEl =\n",
              "          document.querySelector('#df-708d7245-400c-4ec9-926c-a43dcb31ee4e button.colab-df-convert');\n",
              "        buttonEl.style.display =\n",
              "          google.colab.kernel.accessAllowed ? 'block' : 'none';\n",
              "\n",
              "        async function convertToInteractive(key) {\n",
              "          const element = document.querySelector('#df-708d7245-400c-4ec9-926c-a43dcb31ee4e');\n",
              "          const dataTable =\n",
              "            await google.colab.kernel.invokeFunction('convertToInteractive',\n",
              "                                                     [key], {});\n",
              "          if (!dataTable) return;\n",
              "\n",
              "          const docLinkHtml = 'Like what you see? Visit the ' +\n",
              "            '<a target=\"_blank\" href=https://colab.research.google.com/notebooks/data_table.ipynb>data table notebook</a>'\n",
              "            + ' to learn more about interactive tables.';\n",
              "          element.innerHTML = '';\n",
              "          dataTable['output_type'] = 'display_data';\n",
              "          await google.colab.output.renderOutput(dataTable, element);\n",
              "          const docLink = document.createElement('div');\n",
              "          docLink.innerHTML = docLinkHtml;\n",
              "          element.appendChild(docLink);\n",
              "        }\n",
              "      </script>\n",
              "    </div>\n",
              "  </div>\n",
              "  "
            ]
          },
          "metadata": {},
          "execution_count": 29
        }
      ]
    },
    {
      "cell_type": "markdown",
      "source": [
        "'Overall_Experience' is the target variable. Let's look the ratio of the target variable"
      ],
      "metadata": {
        "id": "CZpN0O4BPUM4"
      }
    },
    {
      "cell_type": "code",
      "source": [
        "satisfaction_dataset = train_dataset['Overall_Experience']\n",
        "train_dataset = train_dataset.drop(['Overall_Experience'], axis = 1)\n",
        "train_dataset.describe(include=['category']).T"
      ],
      "metadata": {
        "colab": {
          "base_uri": "https://localhost:8080/",
          "height": 607
        },
        "id": "786M2jFpRwtt",
        "outputId": "e5e2e6ac-ea2f-4259-ebda-120e20460c0d"
      },
      "execution_count": 37,
      "outputs": [
        {
          "output_type": "execute_result",
          "data": {
            "text/plain": [
              "                         count unique              top   freq\n",
              "Customer_Type            85428      2   Loyal Customer  69823\n",
              "Type_Travel              85153      2  Business Travel  58617\n",
              "Travel_Class             94379      2              Eco  49342\n",
              "Seat_Comfort             94318      6       Acceptable  21158\n",
              "Seat_Class               94379      2        Green Car  47435\n",
              "Arrival_Time_Convenient  85449      6             Good  19574\n",
              "Catering                 85638      6       Acceptable  18468\n",
              "Platform_Location        94349      6       Manageable  24173\n",
              "Onboard_Wifi_Service     94349      6             Good  22835\n",
              "Onboard_Entertainment    94361      6             Good  30446\n",
              "Online_Support           94288      6             Good  30016\n",
              "Ease_of_Online_Booking   94306      6             Good  28909\n",
              "Onboard_Service          86778      6             Good  27265\n",
              "Legroom                  94289      6             Good  28870\n",
              "Baggage_Handling         94237      5             Good  34944\n",
              "CheckIn_Service          94302      6             Good  26502\n",
              "Cleanliness              94373      6             Good  35427\n",
              "Online_Boarding          94373      6             Good  25533"
            ],
            "text/html": [
              "\n",
              "  <div id=\"df-0b16140d-5dd4-4a47-b8cf-9fa74cef31f8\">\n",
              "    <div class=\"colab-df-container\">\n",
              "      <div>\n",
              "<style scoped>\n",
              "    .dataframe tbody tr th:only-of-type {\n",
              "        vertical-align: middle;\n",
              "    }\n",
              "\n",
              "    .dataframe tbody tr th {\n",
              "        vertical-align: top;\n",
              "    }\n",
              "\n",
              "    .dataframe thead th {\n",
              "        text-align: right;\n",
              "    }\n",
              "</style>\n",
              "<table border=\"1\" class=\"dataframe\">\n",
              "  <thead>\n",
              "    <tr style=\"text-align: right;\">\n",
              "      <th></th>\n",
              "      <th>count</th>\n",
              "      <th>unique</th>\n",
              "      <th>top</th>\n",
              "      <th>freq</th>\n",
              "    </tr>\n",
              "  </thead>\n",
              "  <tbody>\n",
              "    <tr>\n",
              "      <th>Customer_Type</th>\n",
              "      <td>85428</td>\n",
              "      <td>2</td>\n",
              "      <td>Loyal Customer</td>\n",
              "      <td>69823</td>\n",
              "    </tr>\n",
              "    <tr>\n",
              "      <th>Type_Travel</th>\n",
              "      <td>85153</td>\n",
              "      <td>2</td>\n",
              "      <td>Business Travel</td>\n",
              "      <td>58617</td>\n",
              "    </tr>\n",
              "    <tr>\n",
              "      <th>Travel_Class</th>\n",
              "      <td>94379</td>\n",
              "      <td>2</td>\n",
              "      <td>Eco</td>\n",
              "      <td>49342</td>\n",
              "    </tr>\n",
              "    <tr>\n",
              "      <th>Seat_Comfort</th>\n",
              "      <td>94318</td>\n",
              "      <td>6</td>\n",
              "      <td>Acceptable</td>\n",
              "      <td>21158</td>\n",
              "    </tr>\n",
              "    <tr>\n",
              "      <th>Seat_Class</th>\n",
              "      <td>94379</td>\n",
              "      <td>2</td>\n",
              "      <td>Green Car</td>\n",
              "      <td>47435</td>\n",
              "    </tr>\n",
              "    <tr>\n",
              "      <th>Arrival_Time_Convenient</th>\n",
              "      <td>85449</td>\n",
              "      <td>6</td>\n",
              "      <td>Good</td>\n",
              "      <td>19574</td>\n",
              "    </tr>\n",
              "    <tr>\n",
              "      <th>Catering</th>\n",
              "      <td>85638</td>\n",
              "      <td>6</td>\n",
              "      <td>Acceptable</td>\n",
              "      <td>18468</td>\n",
              "    </tr>\n",
              "    <tr>\n",
              "      <th>Platform_Location</th>\n",
              "      <td>94349</td>\n",
              "      <td>6</td>\n",
              "      <td>Manageable</td>\n",
              "      <td>24173</td>\n",
              "    </tr>\n",
              "    <tr>\n",
              "      <th>Onboard_Wifi_Service</th>\n",
              "      <td>94349</td>\n",
              "      <td>6</td>\n",
              "      <td>Good</td>\n",
              "      <td>22835</td>\n",
              "    </tr>\n",
              "    <tr>\n",
              "      <th>Onboard_Entertainment</th>\n",
              "      <td>94361</td>\n",
              "      <td>6</td>\n",
              "      <td>Good</td>\n",
              "      <td>30446</td>\n",
              "    </tr>\n",
              "    <tr>\n",
              "      <th>Online_Support</th>\n",
              "      <td>94288</td>\n",
              "      <td>6</td>\n",
              "      <td>Good</td>\n",
              "      <td>30016</td>\n",
              "    </tr>\n",
              "    <tr>\n",
              "      <th>Ease_of_Online_Booking</th>\n",
              "      <td>94306</td>\n",
              "      <td>6</td>\n",
              "      <td>Good</td>\n",
              "      <td>28909</td>\n",
              "    </tr>\n",
              "    <tr>\n",
              "      <th>Onboard_Service</th>\n",
              "      <td>86778</td>\n",
              "      <td>6</td>\n",
              "      <td>Good</td>\n",
              "      <td>27265</td>\n",
              "    </tr>\n",
              "    <tr>\n",
              "      <th>Legroom</th>\n",
              "      <td>94289</td>\n",
              "      <td>6</td>\n",
              "      <td>Good</td>\n",
              "      <td>28870</td>\n",
              "    </tr>\n",
              "    <tr>\n",
              "      <th>Baggage_Handling</th>\n",
              "      <td>94237</td>\n",
              "      <td>5</td>\n",
              "      <td>Good</td>\n",
              "      <td>34944</td>\n",
              "    </tr>\n",
              "    <tr>\n",
              "      <th>CheckIn_Service</th>\n",
              "      <td>94302</td>\n",
              "      <td>6</td>\n",
              "      <td>Good</td>\n",
              "      <td>26502</td>\n",
              "    </tr>\n",
              "    <tr>\n",
              "      <th>Cleanliness</th>\n",
              "      <td>94373</td>\n",
              "      <td>6</td>\n",
              "      <td>Good</td>\n",
              "      <td>35427</td>\n",
              "    </tr>\n",
              "    <tr>\n",
              "      <th>Online_Boarding</th>\n",
              "      <td>94373</td>\n",
              "      <td>6</td>\n",
              "      <td>Good</td>\n",
              "      <td>25533</td>\n",
              "    </tr>\n",
              "  </tbody>\n",
              "</table>\n",
              "</div>\n",
              "      <button class=\"colab-df-convert\" onclick=\"convertToInteractive('df-0b16140d-5dd4-4a47-b8cf-9fa74cef31f8')\"\n",
              "              title=\"Convert this dataframe to an interactive table.\"\n",
              "              style=\"display:none;\">\n",
              "        \n",
              "  <svg xmlns=\"http://www.w3.org/2000/svg\" height=\"24px\"viewBox=\"0 0 24 24\"\n",
              "       width=\"24px\">\n",
              "    <path d=\"M0 0h24v24H0V0z\" fill=\"none\"/>\n",
              "    <path d=\"M18.56 5.44l.94 2.06.94-2.06 2.06-.94-2.06-.94-.94-2.06-.94 2.06-2.06.94zm-11 1L8.5 8.5l.94-2.06 2.06-.94-2.06-.94L8.5 2.5l-.94 2.06-2.06.94zm10 10l.94 2.06.94-2.06 2.06-.94-2.06-.94-.94-2.06-.94 2.06-2.06.94z\"/><path d=\"M17.41 7.96l-1.37-1.37c-.4-.4-.92-.59-1.43-.59-.52 0-1.04.2-1.43.59L10.3 9.45l-7.72 7.72c-.78.78-.78 2.05 0 2.83L4 21.41c.39.39.9.59 1.41.59.51 0 1.02-.2 1.41-.59l7.78-7.78 2.81-2.81c.8-.78.8-2.07 0-2.86zM5.41 20L4 18.59l7.72-7.72 1.47 1.35L5.41 20z\"/>\n",
              "  </svg>\n",
              "      </button>\n",
              "      \n",
              "  <style>\n",
              "    .colab-df-container {\n",
              "      display:flex;\n",
              "      flex-wrap:wrap;\n",
              "      gap: 12px;\n",
              "    }\n",
              "\n",
              "    .colab-df-convert {\n",
              "      background-color: #E8F0FE;\n",
              "      border: none;\n",
              "      border-radius: 50%;\n",
              "      cursor: pointer;\n",
              "      display: none;\n",
              "      fill: #1967D2;\n",
              "      height: 32px;\n",
              "      padding: 0 0 0 0;\n",
              "      width: 32px;\n",
              "    }\n",
              "\n",
              "    .colab-df-convert:hover {\n",
              "      background-color: #E2EBFA;\n",
              "      box-shadow: 0px 1px 2px rgba(60, 64, 67, 0.3), 0px 1px 3px 1px rgba(60, 64, 67, 0.15);\n",
              "      fill: #174EA6;\n",
              "    }\n",
              "\n",
              "    [theme=dark] .colab-df-convert {\n",
              "      background-color: #3B4455;\n",
              "      fill: #D2E3FC;\n",
              "    }\n",
              "\n",
              "    [theme=dark] .colab-df-convert:hover {\n",
              "      background-color: #434B5C;\n",
              "      box-shadow: 0px 1px 3px 1px rgba(0, 0, 0, 0.15);\n",
              "      filter: drop-shadow(0px 1px 2px rgba(0, 0, 0, 0.3));\n",
              "      fill: #FFFFFF;\n",
              "    }\n",
              "  </style>\n",
              "\n",
              "      <script>\n",
              "        const buttonEl =\n",
              "          document.querySelector('#df-0b16140d-5dd4-4a47-b8cf-9fa74cef31f8 button.colab-df-convert');\n",
              "        buttonEl.style.display =\n",
              "          google.colab.kernel.accessAllowed ? 'block' : 'none';\n",
              "\n",
              "        async function convertToInteractive(key) {\n",
              "          const element = document.querySelector('#df-0b16140d-5dd4-4a47-b8cf-9fa74cef31f8');\n",
              "          const dataTable =\n",
              "            await google.colab.kernel.invokeFunction('convertToInteractive',\n",
              "                                                     [key], {});\n",
              "          if (!dataTable) return;\n",
              "\n",
              "          const docLinkHtml = 'Like what you see? Visit the ' +\n",
              "            '<a target=\"_blank\" href=https://colab.research.google.com/notebooks/data_table.ipynb>data table notebook</a>'\n",
              "            + ' to learn more about interactive tables.';\n",
              "          element.innerHTML = '';\n",
              "          dataTable['output_type'] = 'display_data';\n",
              "          await google.colab.output.renderOutput(dataTable, element);\n",
              "          const docLink = document.createElement('div');\n",
              "          docLink.innerHTML = docLinkHtml;\n",
              "          element.appendChild(docLink);\n",
              "        }\n",
              "      </script>\n",
              "    </div>\n",
              "  </div>\n",
              "  "
            ]
          },
          "metadata": {},
          "execution_count": 37
        }
      ]
    },
    {
      "cell_type": "code",
      "source": [
        "plt.pie(satisfaction_dataset.value_counts(), \n",
        "        labels = [\"Neutral or dissatisfied\", \"Satisfied\"], \n",
        "        colors = sns.color_palette(\"YlOrBr\"), \n",
        "        autopct = '%1.1f%%')\n",
        "pass"
      ],
      "metadata": {
        "colab": {
          "base_uri": "https://localhost:8080/",
          "height": 248
        },
        "id": "AciB59sEPozI",
        "outputId": "b8b92300-119f-4b77-9835-781b024b2025"
      },
      "execution_count": 38,
      "outputs": [
        {
          "output_type": "display_data",
          "data": {
            "text/plain": [
              "<Figure size 432x288 with 1 Axes>"
            ],
            "image/png": "[encoded data removed]"
          },
          "metadata": {}
        }
      ]
    },
    {
      "cell_type": "markdown",
      "source": [
        "The target is more or less well-balanced"
      ],
      "metadata": {
        "id": "4v_PKYt1QWt2"
      }
    },
    {
      "cell_type": "markdown",
      "source": [
        "Matrix of correlation of quantitative features"
      ],
      "metadata": {
        "id": "Xi-Tp6rqQjju"
      }
    },
    {
      "cell_type": "code",
      "source": [
        "train_corr_mat = train_dataset.corr()\n",
        "train_corr_mat"
      ],
      "metadata": {
        "colab": {
          "base_uri": "https://localhost:8080/",
          "height": 173
        },
        "id": "oGb0IhYEQpq4",
        "outputId": "27a00ee3-c40b-4775-e90a-5ec5666f71a4"
      },
      "execution_count": 39,
      "outputs": [
        {
          "output_type": "execute_result",
          "data": {
            "text/plain": [
              "                              Age  Travel_Distance  Departure_Delay_in_Mins  \\\n",
              "Age                      1.000000        -0.251570                -0.007973   \n",
              "Travel_Distance         -0.251570         1.000000                 0.114174   \n",
              "Departure_Delay_in_Mins -0.007973         0.114174                 1.000000   \n",
              "Arrival_Delay_in_Mins   -0.010610         0.111317                 0.965483   \n",
              "\n",
              "                         Arrival_Delay_in_Mins  \n",
              "Age                                  -0.010610  \n",
              "Travel_Distance                       0.111317  \n",
              "Departure_Delay_in_Mins               0.965483  \n",
              "Arrival_Delay_in_Mins                 1.000000  "
            ],
            "text/html": [
              "\n",
              "  <div id=\"df-4a967fda-e006-4c6e-a271-7d162c091084\">\n",
              "    <div class=\"colab-df-container\">\n",
              "      <div>\n",
              "<style scoped>\n",
              "    .dataframe tbody tr th:only-of-type {\n",
              "        vertical-align: middle;\n",
              "    }\n",
              "\n",
              "    .dataframe tbody tr th {\n",
              "        vertical-align: top;\n",
              "    }\n",
              "\n",
              "    .dataframe thead th {\n",
              "        text-align: right;\n",
              "    }\n",
              "</style>\n",
              "<table border=\"1\" class=\"dataframe\">\n",
              "  <thead>\n",
              "    <tr style=\"text-align: right;\">\n",
              "      <th></th>\n",
              "      <th>Age</th>\n",
              "      <th>Travel_Distance</th>\n",
              "      <th>Departure_Delay_in_Mins</th>\n",
              "      <th>Arrival_Delay_in_Mins</th>\n",
              "    </tr>\n",
              "  </thead>\n",
              "  <tbody>\n",
              "    <tr>\n",
              "      <th>Age</th>\n",
              "      <td>1.000000</td>\n",
              "      <td>-0.251570</td>\n",
              "      <td>-0.007973</td>\n",
              "      <td>-0.010610</td>\n",
              "    </tr>\n",
              "    <tr>\n",
              "      <th>Travel_Distance</th>\n",
              "      <td>-0.251570</td>\n",
              "      <td>1.000000</td>\n",
              "      <td>0.114174</td>\n",
              "      <td>0.111317</td>\n",
              "    </tr>\n",
              "    <tr>\n",
              "      <th>Departure_Delay_in_Mins</th>\n",
              "      <td>-0.007973</td>\n",
              "      <td>0.114174</td>\n",
              "      <td>1.000000</td>\n",
              "      <td>0.965483</td>\n",
              "    </tr>\n",
              "    <tr>\n",
              "      <th>Arrival_Delay_in_Mins</th>\n",
              "      <td>-0.010610</td>\n",
              "      <td>0.111317</td>\n",
              "      <td>0.965483</td>\n",
              "      <td>1.000000</td>\n",
              "    </tr>\n",
              "  </tbody>\n",
              "</table>\n",
              "</div>\n",
              "      <button class=\"colab-df-convert\" onclick=\"convertToInteractive('df-4a967fda-e006-4c6e-a271-7d162c091084')\"\n",
              "              title=\"Convert this dataframe to an interactive table.\"\n",
              "              style=\"display:none;\">\n",
              "        \n",
              "  <svg xmlns=\"http://www.w3.org/2000/svg\" height=\"24px\"viewBox=\"0 0 24 24\"\n",
              "       width=\"24px\">\n",
              "    <path d=\"M0 0h24v24H0V0z\" fill=\"none\"/>\n",
              "    <path d=\"M18.56 5.44l.94 2.06.94-2.06 2.06-.94-2.06-.94-.94-2.06-.94 2.06-2.06.94zm-11 1L8.5 8.5l.94-2.06 2.06-.94-2.06-.94L8.5 2.5l-.94 2.06-2.06.94zm10 10l.94 2.06.94-2.06 2.06-.94-2.06-.94-.94-2.06-.94 2.06-2.06.94z\"/><path d=\"M17.41 7.96l-1.37-1.37c-.4-.4-.92-.59-1.43-.59-.52 0-1.04.2-1.43.59L10.3 9.45l-7.72 7.72c-.78.78-.78 2.05 0 2.83L4 21.41c.39.39.9.59 1.41.59.51 0 1.02-.2 1.41-.59l7.78-7.78 2.81-2.81c.8-.78.8-2.07 0-2.86zM5.41 20L4 18.59l7.72-7.72 1.47 1.35L5.41 20z\"/>\n",
              "  </svg>\n",
              "      </button>\n",
              "      \n",
              "  <style>\n",
              "    .colab-df-container {\n",
              "      display:flex;\n",
              "      flex-wrap:wrap;\n",
              "      gap: 12px;\n",
              "    }\n",
              "\n",
              "    .colab-df-convert {\n",
              "      background-color: #E8F0FE;\n",
              "      border: none;\n",
              "      border-radius: 50%;\n",
              "      cursor: pointer;\n",
              "      display: none;\n",
              "      fill: #1967D2;\n",
              "      height: 32px;\n",
              "      padding: 0 0 0 0;\n",
              "      width: 32px;\n",
              "    }\n",
              "\n",
              "    .colab-df-convert:hover {\n",
              "      background-color: #E2EBFA;\n",
              "      box-shadow: 0px 1px 2px rgba(60, 64, 67, 0.3), 0px 1px 3px 1px rgba(60, 64, 67, 0.15);\n",
              "      fill: #174EA6;\n",
              "    }\n",
              "\n",
              "    [theme=dark] .colab-df-convert {\n",
              "      background-color: #3B4455;\n",
              "      fill: #D2E3FC;\n",
              "    }\n",
              "\n",
              "    [theme=dark] .colab-df-convert:hover {\n",
              "      background-color: #434B5C;\n",
              "      box-shadow: 0px 1px 3px 1px rgba(0, 0, 0, 0.15);\n",
              "      filter: drop-shadow(0px 1px 2px rgba(0, 0, 0, 0.3));\n",
              "      fill: #FFFFFF;\n",
              "    }\n",
              "  </style>\n",
              "\n",
              "      <script>\n",
              "        const buttonEl =\n",
              "          document.querySelector('#df-4a967fda-e006-4c6e-a271-7d162c091084 button.colab-df-convert');\n",
              "        buttonEl.style.display =\n",
              "          google.colab.kernel.accessAllowed ? 'block' : 'none';\n",
              "\n",
              "        async function convertToInteractive(key) {\n",
              "          const element = document.querySelector('#df-4a967fda-e006-4c6e-a271-7d162c091084');\n",
              "          const dataTable =\n",
              "            await google.colab.kernel.invokeFunction('convertToInteractive',\n",
              "                                                     [key], {});\n",
              "          if (!dataTable) return;\n",
              "\n",
              "          const docLinkHtml = 'Like what you see? Visit the ' +\n",
              "            '<a target=\"_blank\" href=https://colab.research.google.com/notebooks/data_table.ipynb>data table notebook</a>'\n",
              "            + ' to learn more about interactive tables.';\n",
              "          element.innerHTML = '';\n",
              "          dataTable['output_type'] = 'display_data';\n",
              "          await google.colab.output.renderOutput(dataTable, element);\n",
              "          const docLink = document.createElement('div');\n",
              "          docLink.innerHTML = docLinkHtml;\n",
              "          element.appendChild(docLink);\n",
              "        }\n",
              "      </script>\n",
              "    </div>\n",
              "  </div>\n",
              "  "
            ]
          },
          "metadata": {},
          "execution_count": 39
        }
      ]
    },
    {
      "cell_type": "code",
      "source": [
        "sns.heatmap(train_corr_mat, square = True, cmap = 'Blues')\n",
        "pass"
      ],
      "metadata": {
        "colab": {
          "base_uri": "https://localhost:8080/",
          "height": 386
        },
        "id": "P3gMLwKnQ1s6",
        "outputId": "20e22259-c840-4df3-99d4-eeedfca39834"
      },
      "execution_count": 40,
      "outputs": [
        {
          "output_type": "display_data",
          "data": {
            "text/plain": [
              "<Figure size 432x288 with 2 Axes>"
            ],
            "image/png": "[encoded data removed]"
          },
          "metadata": {
            "needs_background": "light"
          }
        }
      ]
    },
    {
      "cell_type": "markdown",
      "source": [
        "Observations :\n",
        "- as expected, there is a strong correlation between Departure_Delay_in_Mins and Arrival_Delay_in_Mins"
      ],
      "metadata": {
        "id": "8QuVqlPLSkuB"
      }
    },
    {
      "cell_type": "code",
      "source": [
        "train_corr_mat.where(np.triu(train_corr_mat > 0.5, k=1)).stack().sort_values(ascending = False)"
      ],
      "metadata": {
        "colab": {
          "base_uri": "https://localhost:8080/"
        },
        "id": "urgLlXLpTMmN",
        "outputId": "5f931d7d-4be0-41e9-aee1-786e2dfd670c"
      },
      "execution_count": 43,
      "outputs": [
        {
          "output_type": "execute_result",
          "data": {
            "text/plain": [
              "Departure_Delay_in_Mins  Arrival_Delay_in_Mins    0.965483\n",
              "dtype: float64"
            ]
          },
          "metadata": {},
          "execution_count": 43
        }
      ]
    },
    {
      "cell_type": "code",
      "source": [
        "plt.scatter(train_dataset['Arrival_Delay_in_Mins'], train_dataset['Departure_Delay_in_Mins'], alpha = 0.5)\n",
        "pass"
      ],
      "metadata": {
        "colab": {
          "base_uri": "https://localhost:8080/",
          "height": 265
        },
        "id": "w84TIzurS2tE",
        "outputId": "c2074447-7dd8-4444-ec1a-c80cdb2df63e"
      },
      "execution_count": 44,
      "outputs": [
        {
          "output_type": "display_data",
          "data": {
            "text/plain": [
              "<Figure size 432x288 with 1 Axes>"
            ],
            "image/png": "[encoded data removed]"
          },
          "metadata": {
            "needs_background": "light"
          }
        }
      ]
    },
    {
      "cell_type": "markdown",
      "source": [
        "It is clear that the dependance between arrival delay time and Departure delay time is linear"
      ],
      "metadata": {
        "id": "O2PCeMQVThwu"
      }
    }
  ]
}